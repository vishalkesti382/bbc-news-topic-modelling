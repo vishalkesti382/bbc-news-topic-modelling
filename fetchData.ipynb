{
 "cells": [
  {
   "cell_type": "code",
   "execution_count": 1,
   "metadata": {},
   "outputs": [],
   "source": [
    "import os\n",
    "import pandas as pd\n",
    "from sklearn.model_selection import train_test_split\n",
    "\n",
    "data_folder = \"./bbcsport\"\n",
    "folders = [\"athletics\",\"cricket\",\"football\",\"rugby\",\"tennis\"]\n",
    "\n",
    "os.chdir(data_folder)\n"
   ]
  },
  {
   "cell_type": "code",
   "execution_count": null,
   "metadata": {},
   "outputs": [],
   "source": []
  },
  {
   "cell_type": "code",
   "execution_count": 4,
   "metadata": {},
   "outputs": [],
   "source": [
    "x = []\n",
    "y = []\n",
    "\n",
    "for i in folders:\n",
    "    files = os.listdir(i)\n",
    "    for text_file in files:\n",
    "        file_path = i + \"/\" + text_file\n",
    "#         print(\"reading file:\", file_path)\n",
    "        with open(file_path) as f:\n",
    "            data = f.readlines()\n",
    "        data = ' '.join(data)\n",
    "        x.append(data)\n",
    "        y.append(i)\n",
    "   \n"
   ]
  },
  {
   "cell_type": "code",
   "execution_count": 5,
   "metadata": {},
   "outputs": [
    {
     "name": "stdout",
     "output_type": "stream",
     "text": [
      "writing csv flie ...\n"
     ]
    }
   ],
   "source": [
    "data = {'news': x, 'category': y}       \n",
    "df = pd.DataFrame(data)\n",
    "print('writing csv flie ...')\n",
    "df.to_csv('../dataset.csv', index=False)"
   ]
  },
  {
   "cell_type": "code",
   "execution_count": null,
   "metadata": {},
   "outputs": [],
   "source": []
  }
 ],
 "metadata": {
  "kernelspec": {
   "display_name": "Python 3",
   "language": "python",
   "name": "python3"
  },
  "language_info": {
   "codemirror_mode": {
    "name": "ipython",
    "version": 3
   },
   "file_extension": ".py",
   "mimetype": "text/x-python",
   "name": "python",
   "nbconvert_exporter": "python",
   "pygments_lexer": "ipython3",
   "version": "3.7.3"
  }
 },
 "nbformat": 4,
 "nbformat_minor": 2
}
